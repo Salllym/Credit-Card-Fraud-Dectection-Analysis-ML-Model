{
 "cells": [
  {
   "cell_type": "code",
   "execution_count": null,
   "id": "4efbec33",
   "metadata": {},
   "outputs": [],
   "source": [
    "import pandas as pd\n",
    "import numpy as np\n",
    "from matplotlib import pyplot as plt\n",
    "import seaborn as sns\n",
    "from imblearn.over_sampling import SMOTE\n",
    "import sklearn\n",
    "from sklearn.model_selection import train_test_split\n",
    "from sklearn.preprocessing import StandardScaler\n",
    "from sklearn.preprocessing import MinMaxScaler\n",
    "from sklearn.ensemble import RandomForestClassifier\n",
    "from sklearn.tree import DecisionTreeRegressor\n",
    "from sklearn.metrics import accuracy_score, recall_score, precision_score\n",
    "from sklearn.metrics import confusion_matrix, plot_confusion_matrix"
   ]
  },
  {
   "cell_type": "code",
   "execution_count": null,
   "id": "b532c892",
   "metadata": {},
   "outputs": [],
   "source": [
    "df = pd.read_csv('Resources/card_transdata.csv')\n",
    "df.head()"
   ]
  },
  {
   "cell_type": "code",
   "execution_count": null,
   "id": "69f8d31c",
   "metadata": {},
   "outputs": [],
   "source": [
    "df.isnull().sum()"
   ]
  },
  {
   "cell_type": "code",
   "execution_count": null,
   "id": "64b14bfd",
   "metadata": {},
   "outputs": [],
   "source": [
    "df.info()"
   ]
  },
  {
   "cell_type": "code",
   "execution_count": null,
   "id": "7cefa2c2",
   "metadata": {},
   "outputs": [],
   "source": [
    "df.describe()\n"
   ]
  },
  {
   "cell_type": "code",
   "execution_count": null,
   "id": "3d880afe",
   "metadata": {},
   "outputs": [],
   "source": [
    "df.columns"
   ]
  },
  {
   "cell_type": "code",
   "execution_count": null,
   "id": "f3d2f62e",
   "metadata": {},
   "outputs": [],
   "source": [
    "fraud_cases=len(df[df['fraud']==1])"
   ]
  },
  {
   "cell_type": "code",
   "execution_count": null,
   "id": "bf9f7d91",
   "metadata": {},
   "outputs": [],
   "source": [
    "print(' Number of Fraud Cases:',fraud_cases)"
   ]
  },
  {
   "cell_type": "code",
   "execution_count": null,
   "id": "e10a81bf",
   "metadata": {},
   "outputs": [],
   "source": [
    "non_fraud_cases=len(df[df['fraud']==0])"
   ]
  },
  {
   "cell_type": "code",
   "execution_count": null,
   "id": "1b9ae2cf",
   "metadata": {},
   "outputs": [],
   "source": [
    "print('Number of Non Fraud Cases:',non_fraud_cases)"
   ]
  },
  {
   "cell_type": "code",
   "execution_count": null,
   "id": "10a02adc",
   "metadata": {},
   "outputs": [],
   "source": [
    "fraud=df[df['fraud']==1]"
   ]
  },
  {
   "cell_type": "code",
   "execution_count": null,
   "id": "7cbaab13",
   "metadata": {},
   "outputs": [],
   "source": [
    "Nonfraud=df[df['fraud']==0]"
   ]
  },
  {
   "cell_type": "markdown",
   "id": "88d67900",
   "metadata": {},
   "source": [
    "# Continuous Variables"
   ]
  },
  {
   "cell_type": "code",
   "execution_count": null,
   "id": "d4e007a2",
   "metadata": {},
   "outputs": [],
   "source": [
    "conti_variable = df[['distance_from_home', 'distance_from_last_transaction', 'ratio_to_median_purchase_price']]\n",
    "conti_variable.head()"
   ]
  },
  {
   "cell_type": "code",
   "execution_count": null,
   "id": "ddfe9570",
   "metadata": {},
   "outputs": [],
   "source": [
    "conti_variable.hist(bins=60)"
   ]
  },
  {
   "cell_type": "code",
   "execution_count": null,
   "id": "f42033cf",
   "metadata": {},
   "outputs": [],
   "source": [
    "conti_variable.boxplot()"
   ]
  },
  {
   "cell_type": "code",
   "execution_count": null,
   "id": "fd249d44",
   "metadata": {},
   "outputs": [],
   "source": [
    "def removeOutliers(data, col):\n",
    "    Q3 = np.quantile(data[col], 0.75)\n",
    "    Q1 = np.quantile(data[col], 0.25)\n",
    "    IQR = Q3 - Q1\n",
    " \n",
    "    print(\"IQR value for column %s is: %s\" % (col, IQR))\n",
    "    global outlier_free_list\n",
    "    global filtered_data\n",
    " \n",
    "    lower_range = Q1 - 1.5 * IQR\n",
    "    upper_range = Q3 + 1.5 * IQR\n",
    "    outlier_free_list = [x for x in data[col] if (\n",
    "        (x > lower_range) & (x < upper_range))]\n",
    "    filtered_data = data.loc[data[col].isin(outlier_free_list)]"
   ]
  },
  {
   "cell_type": "code",
   "execution_count": null,
   "id": "7c580e78",
   "metadata": {
    "scrolled": true
   },
   "outputs": [],
   "source": [
    "for x in conti_variable.columns:\n",
    "    q25, q75 = conti_variable[x].quantile(0.25), conti_variable[x].quantile(0.75)\n",
    "    iqr = q75 - q25\n",
    "    cut_off = iqr * 1.5\n",
    "    lower, upper = q25 - cut_off, q75 + cut_off\n",
    "\n",
    "    conti_variable[x+'_outlier'] = np.where((conti_variable[x]<lower) & (conti_variable[x]<upper),1,0) \n",
    "    \n",
    "conti_variable.head()    "
   ]
  },
  {
   "cell_type": "markdown",
   "id": "52680519",
   "metadata": {},
   "source": [
    "# Unbalanced Data"
   ]
  },
  {
   "cell_type": "code",
   "execution_count": null,
   "id": "43ee69a9",
   "metadata": {
    "scrolled": true
   },
   "outputs": [],
   "source": [
    "sns.countplot(x='fraud',data=df)"
   ]
  },
  {
   "cell_type": "code",
   "execution_count": null,
   "id": "f45a5233",
   "metadata": {},
   "outputs": [],
   "source": [
    "sm = SMOTE(sampling_strategy='minority', random_state=7)\n",
    "resampled_X, resampled_Y = sm.fit_resample(df.drop('fraud', axis=1), df['fraud'])\n",
    "oversampled_df = pd.concat([pd.DataFrame(resampled_X), pd.DataFrame(resampled_Y)], axis=1)\n",
    "oversampled_df.columns = df.columns\n",
    "oversampled_df['fraud'].value_counts()"
   ]
  },
  {
   "cell_type": "code",
   "execution_count": null,
   "id": "fb3ec85a",
   "metadata": {},
   "outputs": [],
   "source": [
    "oversampled_df['fraud'].value_counts()"
   ]
  },
  {
   "cell_type": "code",
   "execution_count": null,
   "id": "e07daf9c",
   "metadata": {},
   "outputs": [],
   "source": [
    "df['fraud'].value_counts()"
   ]
  },
  {
   "cell_type": "markdown",
   "id": "8fc94261",
   "metadata": {},
   "source": [
    "# Balanced Data"
   ]
  },
  {
   "cell_type": "code",
   "execution_count": null,
   "id": "2767bcae",
   "metadata": {},
   "outputs": [],
   "source": [
    "sns.countplot(x='fraud', data=oversampled_df)"
   ]
  },
  {
   "cell_type": "code",
   "execution_count": null,
   "id": "e235c264",
   "metadata": {
    "scrolled": true
   },
   "outputs": [],
   "source": [
    "oversampled_df"
   ]
  },
  {
   "cell_type": "code",
   "execution_count": null,
   "id": "f9c3344c",
   "metadata": {},
   "outputs": [],
   "source": [
    "f, (ax1, ax2) = plt.subplots(2, 1, figsize=(24,20))\n",
    "\n",
    "# Entire DataFrame\n",
    "corr = df.corr()\n",
    "sns.heatmap(corr, cmap='coolwarm_r', annot_kws={'size':20}, ax=ax1)\n",
    "ax1.set_title(\"Imbalanced Correlation Matrix \\n (don't use for reference)\", fontsize=14)\n",
    "\n",
    "\n",
    "sub_sample_corr = oversampled_df.corr()\n",
    "sns.heatmap(sub_sample_corr, cmap='coolwarm_r', annot_kws={'size':20}, ax=ax2)\n",
    "ax2.set_title('SubSample Correlation Matrix \\n (use for reference)', fontsize=14)\n",
    "plt.show()"
   ]
  },
  {
   "cell_type": "markdown",
   "id": "cf5f7f8b",
   "metadata": {},
   "source": [
    "# Logistic"
   ]
  },
  {
   "cell_type": "code",
   "execution_count": null,
   "id": "3d11b016",
   "metadata": {},
   "outputs": [],
   "source": [
    "from sklearn.linear_model import LogisticRegression"
   ]
  },
  {
   "cell_type": "code",
   "execution_count": null,
   "id": "dfa3a49b",
   "metadata": {},
   "outputs": [],
   "source": [
    "x = oversampled_df.drop(['fraud'],axis=1)"
   ]
  },
  {
   "cell_type": "code",
   "execution_count": null,
   "id": "429f1e18",
   "metadata": {},
   "outputs": [],
   "source": [
    "y = oversampled_df['fraud']"
   ]
  },
  {
   "cell_type": "code",
   "execution_count": null,
   "id": "fd45d101",
   "metadata": {},
   "outputs": [],
   "source": [
    "x_train, x_test, y_train, y_test = train_test_split(x, y, random_state=42)"
   ]
  },
  {
   "cell_type": "code",
   "execution_count": null,
   "id": "b5a29b3d",
   "metadata": {},
   "outputs": [],
   "source": [
    "logistic = LogisticRegression(max_iter=1000)"
   ]
  },
  {
   "cell_type": "code",
   "execution_count": null,
   "id": "1b8c8220",
   "metadata": {},
   "outputs": [],
   "source": [
    "model = logistic.fit(x_train, y_train)"
   ]
  },
  {
   "cell_type": "code",
   "execution_count": null,
   "id": "b6c12c35",
   "metadata": {},
   "outputs": [],
   "source": [
    "prediction = model.predict(x_test)"
   ]
  },
  {
   "cell_type": "code",
   "execution_count": null,
   "id": "83dfc16b",
   "metadata": {},
   "outputs": [],
   "source": [
    "accuracy_score(y_test,prediction)"
   ]
  },
  {
   "cell_type": "code",
   "execution_count": null,
   "id": "23a441f6",
   "metadata": {},
   "outputs": [],
   "source": [
    "print(\"Accuracy - \" + str(accuracy_score(y_test,prediction)))\n",
    "print(\"Recall - \" + str(recall_score(y_test,prediction)))\n",
    "print(\"precision - \" + str(precision_score(y_test,prediction)))"
   ]
  },
  {
   "cell_type": "code",
   "execution_count": null,
   "id": "de2cb65d",
   "metadata": {},
   "outputs": [],
   "source": [
    "plot_confusion_matrix(logistic,x_test,y_test)"
   ]
  },
  {
   "cell_type": "markdown",
   "id": "2db7b188",
   "metadata": {},
   "source": [
    "# Random classifier model"
   ]
  },
  {
   "cell_type": "code",
   "execution_count": null,
   "id": "c473cad7",
   "metadata": {},
   "outputs": [],
   "source": [
    "x1 = oversampled_df.drop(['fraud'],axis=1)"
   ]
  },
  {
   "cell_type": "code",
   "execution_count": null,
   "id": "50581e57",
   "metadata": {},
   "outputs": [],
   "source": [
    "y1 = oversampled_df['fraud']"
   ]
  },
  {
   "cell_type": "code",
   "execution_count": null,
   "id": "982825a5",
   "metadata": {},
   "outputs": [],
   "source": [
    "x1_train, x1_test, y1_train, y1_test = train_test_split(x1, y1, random_state=42)"
   ]
  },
  {
   "cell_type": "code",
   "execution_count": null,
   "id": "103d8409",
   "metadata": {},
   "outputs": [],
   "source": [
    "randomforest = RandomForestClassifier()"
   ]
  },
  {
   "cell_type": "code",
   "execution_count": null,
   "id": "eab7ffdc",
   "metadata": {},
   "outputs": [],
   "source": [
    "model1 = randomforest.fit(x1_train,y1_train)"
   ]
  },
  {
   "cell_type": "code",
   "execution_count": null,
   "id": "cfbe5924",
   "metadata": {},
   "outputs": [],
   "source": [
    "prediction1 = model1.predict(x1_test)"
   ]
  },
  {
   "cell_type": "code",
   "execution_count": null,
   "id": "b045ce09",
   "metadata": {},
   "outputs": [],
   "source": [
    "accuracy_score(y1_test,prediction1)"
   ]
  },
  {
   "cell_type": "code",
   "execution_count": null,
   "id": "b2b68b30",
   "metadata": {},
   "outputs": [],
   "source": [
    "print(\"Accuracy - \" + str(accuracy_score(y1_test,prediction)))\n",
    "print(\"Recall - \" + str(recall_score(y1_test,prediction)))\n",
    "print(\"precision - \" + str(precision_score(y1_test,prediction)))"
   ]
  },
  {
   "cell_type": "code",
   "execution_count": null,
   "id": "fc696708",
   "metadata": {},
   "outputs": [],
   "source": [
    "plot_confusion_matrix(randomforest,x1_test,y1_test)"
   ]
  },
  {
   "cell_type": "markdown",
   "id": "aec60aba",
   "metadata": {},
   "source": [
    "# Decision Tree"
   ]
  },
  {
   "cell_type": "code",
   "execution_count": null,
   "id": "42ac1fd3",
   "metadata": {},
   "outputs": [],
   "source": [
    "x2 = oversampled_df.drop(['fraud'],axis=1)"
   ]
  },
  {
   "cell_type": "code",
   "execution_count": null,
   "id": "cfadd082",
   "metadata": {},
   "outputs": [],
   "source": [
    "y2 = oversampled_df['fraud']"
   ]
  },
  {
   "cell_type": "code",
   "execution_count": null,
   "id": "abf72565",
   "metadata": {},
   "outputs": [],
   "source": [
    "dt = DecisionTreeRegressor()"
   ]
  },
  {
   "cell_type": "code",
   "execution_count": null,
   "id": "b46ddaf9",
   "metadata": {},
   "outputs": [],
   "source": [
    "x2_train,x2_test,y2_train,y2_test=train_test_split(x2,y2,test_size=0.3,random_state=123)"
   ]
  },
  {
   "cell_type": "code",
   "execution_count": null,
   "id": "218c0e8d",
   "metadata": {},
   "outputs": [],
   "source": [
    "model2 = dt.fit(x2_train,y2_train)"
   ]
  },
  {
   "cell_type": "code",
   "execution_count": null,
   "id": "4b58f75a",
   "metadata": {},
   "outputs": [],
   "source": [
    "prediction2 = model2.predict(x2_test)"
   ]
  },
  {
   "cell_type": "code",
   "execution_count": null,
   "id": "851de508",
   "metadata": {},
   "outputs": [],
   "source": [
    "accuracy_score(y2_test,prediction2)"
   ]
  },
  {
   "cell_type": "code",
   "execution_count": null,
   "id": "dfe98fbc",
   "metadata": {},
   "outputs": [],
   "source": [
    "print(\"Accuracy - \" + str(accuracy_score(y1_test,prediction)))\n",
    "print(\"Recall - \" + str(recall_score(y1_test,prediction)))\n",
    "print(\"precision - \" + str(precision_score(y1_test,prediction)))"
   ]
  },
  {
   "cell_type": "code",
   "execution_count": null,
   "id": "4ae4a3c0",
   "metadata": {},
   "outputs": [],
   "source": []
  }
 ],
 "metadata": {
  "kernelspec": {
   "display_name": "Python [conda env:PythonData38]",
   "language": "python",
   "name": "conda-env-PythonData38-py"
  },
  "language_info": {
   "codemirror_mode": {
    "name": "ipython",
    "version": 3
   },
   "file_extension": ".py",
   "mimetype": "text/x-python",
   "name": "python",
   "nbconvert_exporter": "python",
   "pygments_lexer": "ipython3",
   "version": "3.8.5"
  }
 },
 "nbformat": 4,
 "nbformat_minor": 5
}
